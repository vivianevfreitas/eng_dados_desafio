{
 "cells": [
  {
   "cell_type": "markdown",
   "id": "b1538dbc",
   "metadata": {},
   "source": [
    "DESAFIO ENGENHEIRO DE DADOS JÚNIOR - STILINGUE"
   ]
  },
  {
   "cell_type": "code",
   "execution_count": null,
   "id": "4d23572f",
   "metadata": {},
   "outputs": [],
   "source": [
    "# importando bibliotecas\n",
    "\n",
    "import requests # responsável por enviar requisições HTTP\n",
    "import json\n",
    "import time\n",
    "import pandas as pd\n",
    "import numpy as np\n",
    "from requests.adapters import HTTPAdapter \n",
    "from requests.packages.urllib3.util.retry import Retry"
   ]
  },
  {
   "cell_type": "markdown",
   "id": "095d6949",
   "metadata": {},
   "source": [
    "Fazendo as requisições e construindo a base de dados de localidades. "
   ]
  },
  {
   "cell_type": "code",
   "execution_count": null,
   "id": "c4d206a8",
   "metadata": {},
   "outputs": [],
   "source": [
    "request = requests.get('https://servicodados.ibge.gov.br/api/v1/localidades/municipios') # faz a requisição\n",
    "municipios = json.loads(request.content) # acessar os atributos em formato json\n",
    "\n",
    "qnt = (len(municipios))\n",
    "\n",
    "dados = []\n",
    "\n",
    "# fazendo a coleta das informações necessárias na api de localidade \n",
    "\n",
    "for i in range(qnt):\n",
    "    #print(municipios[i])\n",
    "    print(municipios[i]['id'], '-', \n",
    "          municipios[i]['nome'], '-', \n",
    "          municipios[i]['microrregiao']['mesorregiao']['UF']['id'], '-', \n",
    "          municipios[i]['microrregiao']['mesorregiao']['UF']['sigla'], '-', \n",
    "          municipios[i]['microrregiao']['mesorregiao']['UF']['nome'], '-',\n",
    "          municipios[i]['microrregiao']['mesorregiao']['UF']['regiao']['id'], '-',\n",
    "          municipios[i]['microrregiao']['mesorregiao']['UF']['regiao']['nome'])\n",
    "\n",
    "    dados.append(municipios[i]['id']) # id localidade\n",
    "    dados.append(municipios[i]['nome']) # nome município\n",
    "    dados.append(municipios[i]['microrregiao']['mesorregiao']['UF']['id']) # id UF\n",
    "    dados.append(municipios[i]['microrregiao']['mesorregiao']['UF']['sigla']) # sigla UF\n",
    "    dados.append(municipios[i]['microrregiao']['mesorregiao']['UF']['nome']) # nome UF\n",
    "    dados.append(municipios[i]['microrregiao']['mesorregiao']['UF']['regiao']['id']) #id região\n",
    "    dados.append(municipios[i]['microrregiao']['mesorregiao']['UF']['regiao']['nome']) # nome região\n",
    "\n",
    "\n",
    "dados"
   ]
  },
  {
   "cell_type": "markdown",
   "id": "6ae18afe",
   "metadata": {},
   "source": [
    "Organizando a base e transformando-a em um dataframe pra ficar melhor apresentado."
   ]
  },
  {
   "cell_type": "code",
   "execution_count": null,
   "id": "b310b66b",
   "metadata": {},
   "outputs": [],
   "source": [
    "matriz_np = np.array(dados)\n",
    "matriz_ajustada = np.reshape(matriz_np, (qnt,7))\n",
    "#matriz_ajustada\n",
    "\n",
    "df = pd.DataFrame()\n",
    "\n",
    "colunas = ['id_localidade', 'nome_localidade', 'id_uf', 'sigla_uf', 'nome_uf', 'id_regiao', 'nome_regiao']\n",
    "\n",
    "df = pd.DataFrame(matriz_ajustada, columns=colunas)\n",
    "\n",
    "df"
   ]
  },
  {
   "cell_type": "code",
   "execution_count": null,
   "id": "de0299c9",
   "metadata": {},
   "outputs": [],
   "source": [
    "df.to_csv('localidade.csv', encoding='latin-1', index=False) # salvando a base de localidade em csv"
   ]
  },
  {
   "cell_type": "markdown",
   "id": "4ac29b2b",
   "metadata": {},
   "source": [
    "Fazendo as requisições e construindo a base de dados dos top 10 nomes no Brasil."
   ]
  },
  {
   "cell_type": "code",
   "execution_count": null,
   "id": "c3afd960",
   "metadata": {},
   "outputs": [],
   "source": [
    "request_ranking = requests.get(f'https://servicodados.ibge.gov.br/api/v2/censos/nomes/ranking')\n",
    "request_nomes = requests.get(f'https://servicodados.ibge.gov.br/api/v2/censos/nomes')\n",
    "\n",
    "ranking = json.loads(request_ranking.content)\n",
    "nomes = json.loads(request_nomes.content)\n",
    "\n",
    "dados_top10_BR = []\n",
    "\n",
    "for i in range(10):\n",
    "    print(nomes[i]['nome'], '-',\n",
    "          nomes[i]['freq'])\n",
    "\n",
    "\n",
    "    dados_top10_BR.append(nomes[i]['nome'])\n",
    "    dados_top10_BR.append(nomes[i]['freq'])\n",
    "\n",
    "dados_top10_BR"
   ]
  },
  {
   "cell_type": "markdown",
   "id": "0135037e",
   "metadata": {},
   "source": [
    "Organizando a base e transformando-a em um dataframe pra ficar melhor apresentado."
   ]
  },
  {
   "cell_type": "code",
   "execution_count": null,
   "id": "535d38e2",
   "metadata": {},
   "outputs": [],
   "source": [
    "matriz_np = np.array(dados_top10_BR)\n",
    "matriz_ajustada = np.reshape(matriz_np, (10,2))\n",
    "#matriz_ajustada\n",
    "\n",
    "df_top10 = pd.DataFrame()\n",
    "\n",
    "colunas = ['Nome', 'Frequencia']\n",
    "\n",
    "df_top10 = pd.DataFrame(matriz_ajustada, columns=colunas)\n",
    "\n",
    "df_top10"
   ]
  },
  {
   "cell_type": "code",
   "execution_count": null,
   "id": "a89c5a5a",
   "metadata": {},
   "outputs": [],
   "source": [
    "df_top10.to_csv('top10.csv', encoding='latin-1', index=False) # salvando a base dos top 10 nomes Brasil em csv"
   ]
  },
  {
   "cell_type": "code",
   "execution_count": null,
   "id": "a265c26d",
   "metadata": {},
   "outputs": [],
   "source": [
    "def buscar_nomes_top10_Local(local, nome):\n",
    "    \n",
    "    retry_strategy = Retry(\n",
    "        total = 3, # número total de tentativas de repetição\n",
    "        status_forcelist = [429, 500, 502, 503, 504], # Prevendo possíveis erros do servidor \n",
    "        method_whitelist = [\"GET\"], # para realizar a coleta de informações eu só preciso utilizar o get na nova requisição\n",
    "        backoff_factor = 120 # define quanto tempo o processo fica inativo entre as solicitações com falha e a nova requisição\n",
    "    )\n",
    "    adapter = HTTPAdapter(max_retries = retry_strategy)\n",
    "    http = requests.Session()\n",
    "    http.mount(\"https://\", adapter)\n",
    "    http.mount(\"http://\", adapter)\n",
    "    \n",
    "    request_ranking = http.get(f'https://servicodados.ibge.gov.br/api/v2/censos/nomes/ranking?localidade={local}')\n",
    "    request_nomes = http.get(f'https://servicodados.ibge.gov.br/api/v2/censos/nomes/{nome}?localidade={local}')\n",
    "\n",
    "    ranking = json.loads(request_ranking.content)\n",
    "    nomes = json.loads(request_nomes.content)\n",
    "    \n",
    "    for i in range(len(nomes)): \n",
    "        for j in range(len(nomes[i]['res'])):\n",
    "            top10 = []\n",
    "            print(nomes[i]['nome'], '-',\n",
    "                  nomes[i]['localidade'], '-')\n",
    "            top10.append(nomes[i]['nome'])\n",
    "            top10.append(nomes[i]['localidade'])\n",
    "            print(nomes[i]['res'][j]['periodo'], '-',\n",
    "                  nomes[i]['res'][j]['frequencia'],)\n",
    "            top10.append(nomes[i]['res'][j]['periodo'])\n",
    "            top10.append(nomes[i]['res'][j]['frequencia'])\n",
    "                \n",
    "            dados_top10_localidade.append(top10)\n",
    "\n",
    "    dados_top10_localidade"
   ]
  },
  {
   "cell_type": "code",
   "execution_count": null,
   "id": "4c62d562",
   "metadata": {},
   "outputs": [],
   "source": [
    "if __name__ == '__main__':\n",
    "    dados_top10_localidade = []\n",
    "    for i in range(len(municipios)):\n",
    "        print(i)\n",
    "        for j in range(10):\n",
    "            buscar_nomes_top10_Local(df['ID Localizacao'][i], df_top10['Nome'][j])"
   ]
  },
  {
   "cell_type": "code",
   "execution_count": null,
   "id": "15bfbddc",
   "metadata": {},
   "outputs": [],
   "source": [
    "dados_top10_localidade"
   ]
  },
  {
   "cell_type": "code",
   "execution_count": null,
   "id": "96f9c5e8",
   "metadata": {},
   "outputs": [],
   "source": [
    "matriz_np = np.array(dados_top10_localidade)\n",
    "#matriz_np\n",
    "matriz_ajustada = np.reshape(matriz_np, (len(dados_top10_localidade), 4))\n",
    "#matriz_ajustada\n",
    "\n",
    "colunas = ['nome', 'id_localidade', 'periodo', 'frequencia']\n",
    "\n",
    "df_nomes = pd.DataFrame(matriz_ajustada, columns=colunas)"
   ]
  },
  {
   "cell_type": "code",
   "execution_count": null,
   "id": "b7115456",
   "metadata": {},
   "outputs": [],
   "source": [
    "df_nomes"
   ]
  },
  {
   "cell_type": "code",
   "execution_count": null,
   "id": "f524fadd",
   "metadata": {},
   "outputs": [],
   "source": [
    "df_nomes.to_csv('nomes_localidade.csv', encoding='latin-1', index=False)"
   ]
  },
  {
   "cell_type": "code",
   "execution_count": null,
   "id": "88aba284",
   "metadata": {},
   "outputs": [],
   "source": [
    "#--------------------------------------------------"
   ]
  },
  {
   "cell_type": "code",
   "execution_count": null,
   "id": "32918140",
   "metadata": {},
   "outputs": [],
   "source": []
  }
 ],
 "metadata": {
  "kernelspec": {
   "display_name": "Python 3 (ipykernel)",
   "language": "python",
   "name": "python3"
  },
  "language_info": {
   "codemirror_mode": {
    "name": "ipython",
    "version": 3
   },
   "file_extension": ".py",
   "mimetype": "text/x-python",
   "name": "python",
   "nbconvert_exporter": "python",
   "pygments_lexer": "ipython3",
   "version": "3.9.12"
  }
 },
 "nbformat": 4,
 "nbformat_minor": 5
}
